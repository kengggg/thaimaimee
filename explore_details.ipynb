{
 "cells": [
  {
   "cell_type": "code",
   "execution_count": 257,
   "metadata": {},
   "outputs": [],
   "source": [
    "import re\n",
    "import pythainlp\n",
    "from pythainlp.ulmfit import rm_useless_newlines, rm_useless_spaces\n",
    "from tqdm.notebook import tqdm\n",
    "import json\n",
    "import pandas as pd\n",
    "import csv\n",
    "\n",
    "def process_text(content, save_txt=True):\n",
    "    mapping = dict([\n",
    "        #('\\uf700', ''),\n",
    "        ('\\uf701', 'ิ'),\n",
    "        ('\\uf702', 'ี'),\n",
    "        ('\\uf703', 'ึ'),\n",
    "        ('\\uf704', 'ื'),\n",
    "        ('\\uf705', '่'),\n",
    "        ('\\uf706', '้'),\n",
    "        ('\\uf707', '๊'),\n",
    "        ('\\uf708', '๋'),\n",
    "        ('\\uf709', '์'),\n",
    "        ('\\uf70a', '่'),\n",
    "        ('\\uf70b', '้'),\n",
    "        ('\\uf70c', '๊'),\n",
    "        ('\\uf70d', '๋'),\n",
    "        ('\\uf70e', '์'),\n",
    "        ('\\uf70f', ''),\n",
    "        ('\\uf710', 'ัั'),\n",
    "        ('\\uf711', ''),\n",
    "        ('\\uf712', '็'),\n",
    "        ('\\uf713', '่'),\n",
    "        ('\\uf714', '้'),    \n",
    "    ])\n",
    "    mapping = str.maketrans(mapping)\n",
    "    text = content.translate(mapping)\n",
    "    text = re.sub(' า','ำ', text)\n",
    "    text = pythainlp.util.normalize(text)\n",
    "    text = text.strip()\n",
    "    text = rm_useless_newlines(text)\n",
    "    text = rm_useless_spaces(text)\n",
    "    \n",
    "    return text\n",
    "\n",
    "def extract_span(text, prefix, suffix):\n",
    "    pattern = re.compile(f'(?={prefix}).+(?<={suffix})')\n",
    "    return rm_useless_spaces(pattern.search(text).group().split(suffix)[0].split(prefix)[1].strip())\n"
   ]
  },
  {
   "cell_type": "code",
   "execution_count": 141,
   "metadata": {},
   "outputs": [
    {
     "data": {
      "text/plain": [
       "29105"
      ]
     },
     "execution_count": 141,
     "metadata": {},
     "output_type": "execute_result"
    }
   ],
   "source": [
    "#everything from 3.2\n",
    "results = json.load(open('data/results32.json'))\n",
    "len(results)"
   ]
  },
  {
   "cell_type": "markdown",
   "metadata": {},
   "source": [
    "## Extract Details of Interests"
   ]
  },
  {
   "cell_type": "code",
   "execution_count": 142,
   "metadata": {},
   "outputs": [
    {
     "data": {
      "application/vnd.jupyter.widget-view+json": {
       "model_id": "20f1e5a15c1941d487968cb7f30a5262",
       "version_major": 2,
       "version_minor": 0
      },
      "text/plain": [
       "HBox(children=(FloatProgress(value=0.0, max=29105.0), HTML(value='')))"
      ]
     },
     "metadata": {},
     "output_type": "display_data"
    },
    {
     "name": "stdout",
     "output_type": "stream",
     "text": [
      "\n"
     ]
    },
    {
     "data": {
      "text/plain": [
       "29105"
      ]
     },
     "execution_count": 142,
     "metadata": {},
     "output_type": "execute_result"
    }
   ],
   "source": [
    "project_names = []\n",
    "for i in tqdm(range(len(results))):\n",
    "    try:\n",
    "        x = process_text(results[i]['content'].replace('\\n',' '))\n",
    "        project_names.append(extract_span(x,'1. ชื่อโครงการ',' พื้นที่'))\n",
    "    except:\n",
    "        project_names.append('unk')\n",
    "len(project_names)"
   ]
  },
  {
   "cell_type": "code",
   "execution_count": 143,
   "metadata": {},
   "outputs": [
    {
     "data": {
      "application/vnd.jupyter.widget-view+json": {
       "model_id": "e7766003cf734e4f8e13a7fa00f6b00e",
       "version_major": 2,
       "version_minor": 0
      },
      "text/plain": [
       "HBox(children=(FloatProgress(value=0.0, max=29105.0), HTML(value='')))"
      ]
     },
     "metadata": {},
     "output_type": "display_data"
    },
    {
     "name": "stdout",
     "output_type": "stream",
     "text": [
      "\n"
     ]
    },
    {
     "data": {
      "text/plain": [
       "29105"
      ]
     },
     "execution_count": 143,
     "metadata": {},
     "output_type": "execute_result"
    }
   ],
   "source": [
    "rationales = []\n",
    "for i in tqdm(range(len(results))):\n",
    "    try:\n",
    "        x = process_text(results[i]['content'].replace('\\n',' '))\n",
    "        rationales.append(extract_span(x,'หลักการและเหตุผล','6. ที่มาของโครงการ'))\n",
    "    except:\n",
    "        rationales.append('unk')\n",
    "len(rationales)"
   ]
  },
  {
   "cell_type": "code",
   "execution_count": 156,
   "metadata": {},
   "outputs": [
    {
     "data": {
      "application/vnd.jupyter.widget-view+json": {
       "model_id": "9848d2b1b3644a379f071a79ece76b97",
       "version_major": 2,
       "version_minor": 0
      },
      "text/plain": [
       "HBox(children=(FloatProgress(value=0.0, max=29105.0), HTML(value='')))"
      ]
     },
     "metadata": {},
     "output_type": "display_data"
    },
    {
     "name": "stdout",
     "output_type": "stream",
     "text": [
      "\n"
     ]
    },
    {
     "data": {
      "text/plain": [
       "29105"
      ]
     },
     "execution_count": 156,
     "metadata": {},
     "output_type": "execute_result"
    }
   ],
   "source": [
    "scopes = []\n",
    "for i in tqdm(range(len(results))):\n",
    "    try:\n",
    "        x = process_text(results[i]['content'].replace('\\n',' '))\n",
    "        scopes.append(extract_span(x,'8. ขอบเขตการ','9. ผลที่คาด'))\n",
    "    except:\n",
    "        scopes.append('unk')\n",
    "len(scopes)"
   ]
  },
  {
   "cell_type": "code",
   "execution_count": 145,
   "metadata": {},
   "outputs": [
    {
     "data": {
      "application/vnd.jupyter.widget-view+json": {
       "model_id": "ef964083b3a54cd99e3c657c5c93c467",
       "version_major": 2,
       "version_minor": 0
      },
      "text/plain": [
       "HBox(children=(FloatProgress(value=0.0, max=29105.0), HTML(value='')))"
      ]
     },
     "metadata": {},
     "output_type": "display_data"
    },
    {
     "name": "stdout",
     "output_type": "stream",
     "text": [
      "\n"
     ]
    },
    {
     "data": {
      "text/plain": [
       "29105"
      ]
     },
     "execution_count": 145,
     "metadata": {},
     "output_type": "execute_result"
    }
   ],
   "source": [
    "targets = []\n",
    "for i in tqdm(range(len(results))):\n",
    "    try:\n",
    "        x = process_text(results[i]['content'].replace('\\n',' '))\n",
    "        targets.append(extract_span(x,'เป้าหมายและตัวชี้วัด','10. ผู้รับผิดชอบ'))\n",
    "    except:\n",
    "        targets.append('unk')\n",
    "len(targets)"
   ]
  },
  {
   "cell_type": "code",
   "execution_count": 214,
   "metadata": {},
   "outputs": [
    {
     "data": {
      "application/vnd.jupyter.widget-view+json": {
       "model_id": "0dff8bae14554833ab9f6fe42bef755c",
       "version_major": 2,
       "version_minor": 0
      },
      "text/plain": [
       "HBox(children=(FloatProgress(value=0.0, max=29105.0), HTML(value='')))"
      ]
     },
     "metadata": {},
     "output_type": "display_data"
    },
    {
     "name": "stdout",
     "output_type": "stream",
     "text": [
      "\n"
     ]
    },
    {
     "data": {
      "text/plain": [
       "29105"
      ]
     },
     "execution_count": 214,
     "metadata": {},
     "output_type": "execute_result"
    }
   ],
   "source": [
    "prices = []\n",
    "for i in tqdm(range(len(results))):\n",
    "    try:\n",
    "        x = process_text(results[i]['content'].replace('\\n',' '))\n",
    "        prices.append(extract_span(x,'3. วงเงินงบประมาณ','บาท'))\n",
    "    except:\n",
    "        prices.append(-1)\n",
    "len(prices)"
   ]
  },
  {
   "cell_type": "code",
   "execution_count": 303,
   "metadata": {},
   "outputs": [],
   "source": [
    "def convert_price(x):\n",
    "    clean_pattern = r'[_,ก-๙ ()-]'\n",
    "    res = str(x).split('(')[0]\n",
    "    if 'ล้าน' in res:\n",
    "        res = re.sub(r' ล้าน$','',res)\n",
    "        res = re.sub(clean_pattern, '', x)\n",
    "        try:\n",
    "            return float(res) * 1000000\n",
    "        except:\n",
    "            return -1\n",
    "    res = re.sub(clean_pattern, '', res)\n",
    "    try:\n",
    "        return float(res)\n",
    "    except:\n",
    "        return -1\n",
    "    \n",
    "def thainum_to_num(x):\n",
    "    x = str(x)\n",
    "    x = x.replace('๐','0')\\\n",
    "        .replace('๑','1')\\\n",
    "        .replace('๒','2')\\\n",
    "        .replace('๓','3')\\\n",
    "        .replace('๔','4')\\\n",
    "        .replace('๕','5')\\\n",
    "        .replace('๖','6')\\\n",
    "        .replace('๗','7')\\\n",
    "        .replace('๘','8')\\\n",
    "        .replace('๙','9')\n",
    "    return x"
   ]
  },
  {
   "cell_type": "code",
   "execution_count": 325,
   "metadata": {},
   "outputs": [
    {
     "data": {
      "text/html": [
       "<div>\n",
       "<style scoped>\n",
       "    .dataframe tbody tr th:only-of-type {\n",
       "        vertical-align: middle;\n",
       "    }\n",
       "\n",
       "    .dataframe tbody tr th {\n",
       "        vertical-align: top;\n",
       "    }\n",
       "\n",
       "    .dataframe thead th {\n",
       "        text-align: right;\n",
       "    }\n",
       "</style>\n",
       "<table border=\"1\" class=\"dataframe\">\n",
       "  <thead>\n",
       "    <tr style=\"text-align: right;\">\n",
       "      <th></th>\n",
       "      <th>project_name</th>\n",
       "      <th>price</th>\n",
       "      <th>rationale</th>\n",
       "      <th>scope</th>\n",
       "      <th>target</th>\n",
       "      <th>price_m</th>\n",
       "    </tr>\n",
       "  </thead>\n",
       "  <tbody>\n",
       "    <tr>\n",
       "      <th>0</th>\n",
       "      <td>โครงการซ่อมสร้างบ้านพอเพียงผู้มีรายได้น้อยสู่ก...</td>\n",
       "      <td>1,700.0000 ล้าน</td>\n",
       "      <td>จากสถานการณ์การแพร่ระบาดของโรคติดเชื้อไวรัสโคโ...</td>\n",
       "      <td>กิจกรรม ระยะเวลา 9 เดือน 1. การอนุมัติและเบิก...</td>\n",
       "      <td>unk</td>\n",
       "      <td>1700.0000</td>\n",
       "    </tr>\n",
       "    <tr>\n",
       "      <th>1</th>\n",
       "      <td>โครงการเสริมพลังกลุ่มเปราะบางทางสังคมให้มีความ...</td>\n",
       "      <td>___1,819.3253___________ ล้าน</td>\n",
       "      <td>โครงการเสริมพลั งกลุ่ ม เปราะบางทางสั งคมให้มี...</td>\n",
       "      <td>โครงการเสริมพลังกลุ่มเปราะบางทางสังคมให้มีควา...</td>\n",
       "      <td>1. กลุ่มเปราะบางทางสังคมได้รับการเสริมพลังและพ...</td>\n",
       "      <td>1819.3253</td>\n",
       "    </tr>\n",
       "    <tr>\n",
       "      <th>2</th>\n",
       "      <td>โครงการพัฒนาเศรษฐกิจฐานรากและทุนชุมชนสู่เครือข...</td>\n",
       "      <td>260 ล้าน</td>\n",
       "      <td>จากผลกระทบจากสถานการณ์การระบาดของโรคติดเชื้อไว...</td>\n",
       "      <td>1.การฝึกอบรมและสร้างเครือข่าย ผู้ประสานงานพัฒ...</td>\n",
       "      <td>unk</td>\n",
       "      <td>260.0000</td>\n",
       "    </tr>\n",
       "    <tr>\n",
       "      <th>3</th>\n",
       "      <td>โครงการพัฒนาศูนย์การเรียนรู้ และแหล่งท่องเที่ย...</td>\n",
       "      <td>______4,500,000 (สี่ล้านห้าแสน</td>\n",
       "      <td>(โปรดอธิบายให้เห็นว่าโครงการที่เสนอสามารถตอบสน...</td>\n",
       "      <td>ตั้งเดือนกุมภาพันธ์ 2562 เป็นต้นมาตำรวจภูธร จ...</td>\n",
       "      <td>1. เป็นแหล่งท่องเที่ยวเชิงเกษตร เป็น Land Mark...</td>\n",
       "      <td>4.5000</td>\n",
       "    </tr>\n",
       "    <tr>\n",
       "      <th>4</th>\n",
       "      <td>โครงการส่งเสริมอาชีพด้านเกษตรกรให้กับประชาชนใน...</td>\n",
       "      <td>500,000</td>\n",
       "      <td>(โปรดอธิบายให้เห็นว่าโครงการที่เสนอสามารถตอบสน...</td>\n",
       "      <td>8.1 จัดทำเป็นศูนย์การเรียนรู้ด้านเกษตรกรเบื้อ...</td>\n",
       "      <td>9.1 ประชาชนที่เข้าร่วมโครงการ มีความรู้ ความสา...</td>\n",
       "      <td>0.5000</td>\n",
       "    </tr>\n",
       "    <tr>\n",
       "      <th>...</th>\n",
       "      <td>...</td>\n",
       "      <td>...</td>\n",
       "      <td>...</td>\n",
       "      <td>...</td>\n",
       "      <td>...</td>\n",
       "      <td>...</td>\n",
       "    </tr>\n",
       "    <tr>\n",
       "      <th>29100</th>\n",
       "      <td>โครงการเพิ่มมูลค่าผลผลิตการเกษตรและพัฒนาบรรจุภ...</td>\n",
       "      <td>30๐,๐๐๐</td>\n",
       "      <td>(โปรดอธิบายให้เห็นว่าโครงการที่เสนอสามารถตอบสน...</td>\n",
       "      <td>ดําเนินงาน/กิจกรรมที่สําคัญของโครงการ (โปรดอธิ...</td>\n",
       "      <td>unk</td>\n",
       "      <td>0.3000</td>\n",
       "    </tr>\n",
       "    <tr>\n",
       "      <th>29101</th>\n",
       "      <td>โครงการยกระดับความสามารถในการผลิตสินค้าอตัลักษ...</td>\n",
       "      <td>-1</td>\n",
       "      <td>unk</td>\n",
       "      <td>unk</td>\n",
       "      <td>unk</td>\n",
       "      <td>-1.0000</td>\n",
       "    </tr>\n",
       "    <tr>\n",
       "      <th>29102</th>\n",
       "      <td>unk</td>\n",
       "      <td>-1</td>\n",
       "      <td>unk</td>\n",
       "      <td>unk</td>\n",
       "      <td>unk</td>\n",
       "      <td>-1.0000</td>\n",
       "    </tr>\n",
       "    <tr>\n",
       "      <th>29103</th>\n",
       "      <td>unk</td>\n",
       "      <td>_____960,000_____________</td>\n",
       "      <td>(โปรดอธิบายให้เห็นว่าโครงการที่เสนอสามารถตอบสน...</td>\n",
       "      <td>1. กิจกรรมการปลูกฟ้าทะลายโจรเชิงการค้า ภายใต้...</td>\n",
       "      <td>1. เป็นแหล่งเรียนรู้ด้านการผลิตและการแปรรูปสมุ...</td>\n",
       "      <td>0.9600</td>\n",
       "    </tr>\n",
       "    <tr>\n",
       "      <th>29104</th>\n",
       "      <td>เพิ่มมูลค่าปุ๋ยคอกให้เป็นดินดีส่งเสริมเกษตรอิน...</td>\n",
       "      <td>250,000</td>\n",
       "      <td>unk</td>\n",
       "      <td>unk</td>\n",
       "      <td>unk</td>\n",
       "      <td>0.2500</td>\n",
       "    </tr>\n",
       "  </tbody>\n",
       "</table>\n",
       "<p>29105 rows × 6 columns</p>\n",
       "</div>"
      ],
      "text/plain": [
       "                                            project_name  \\\n",
       "0      โครงการซ่อมสร้างบ้านพอเพียงผู้มีรายได้น้อยสู่ก...   \n",
       "1      โครงการเสริมพลังกลุ่มเปราะบางทางสังคมให้มีความ...   \n",
       "2      โครงการพัฒนาเศรษฐกิจฐานรากและทุนชุมชนสู่เครือข...   \n",
       "3      โครงการพัฒนาศูนย์การเรียนรู้ และแหล่งท่องเที่ย...   \n",
       "4      โครงการส่งเสริมอาชีพด้านเกษตรกรให้กับประชาชนใน...   \n",
       "...                                                  ...   \n",
       "29100  โครงการเพิ่มมูลค่าผลผลิตการเกษตรและพัฒนาบรรจุภ...   \n",
       "29101  โครงการยกระดับความสามารถในการผลิตสินค้าอตัลักษ...   \n",
       "29102                                                unk   \n",
       "29103                                                unk   \n",
       "29104  เพิ่มมูลค่าปุ๋ยคอกให้เป็นดินดีส่งเสริมเกษตรอิน...   \n",
       "\n",
       "                                price  \\\n",
       "0                     1,700.0000 ล้าน   \n",
       "1       ___1,819.3253___________ ล้าน   \n",
       "2                            260 ล้าน   \n",
       "3      ______4,500,000 (สี่ล้านห้าแสน   \n",
       "4                             500,000   \n",
       "...                               ...   \n",
       "29100                         30๐,๐๐๐   \n",
       "29101                              -1   \n",
       "29102                              -1   \n",
       "29103       _____960,000_____________   \n",
       "29104                         250,000   \n",
       "\n",
       "                                               rationale  \\\n",
       "0      จากสถานการณ์การแพร่ระบาดของโรคติดเชื้อไวรัสโคโ...   \n",
       "1      โครงการเสริมพลั งกลุ่ ม เปราะบางทางสั งคมให้มี...   \n",
       "2      จากผลกระทบจากสถานการณ์การระบาดของโรคติดเชื้อไว...   \n",
       "3      (โปรดอธิบายให้เห็นว่าโครงการที่เสนอสามารถตอบสน...   \n",
       "4      (โปรดอธิบายให้เห็นว่าโครงการที่เสนอสามารถตอบสน...   \n",
       "...                                                  ...   \n",
       "29100  (โปรดอธิบายให้เห็นว่าโครงการที่เสนอสามารถตอบสน...   \n",
       "29101                                                unk   \n",
       "29102                                                unk   \n",
       "29103  (โปรดอธิบายให้เห็นว่าโครงการที่เสนอสามารถตอบสน...   \n",
       "29104                                                unk   \n",
       "\n",
       "                                                   scope  \\\n",
       "0       กิจกรรม ระยะเวลา 9 เดือน 1. การอนุมัติและเบิก...   \n",
       "1       โครงการเสริมพลังกลุ่มเปราะบางทางสังคมให้มีควา...   \n",
       "2       1.การฝึกอบรมและสร้างเครือข่าย ผู้ประสานงานพัฒ...   \n",
       "3       ตั้งเดือนกุมภาพันธ์ 2562 เป็นต้นมาตำรวจภูธร จ...   \n",
       "4       8.1 จัดทำเป็นศูนย์การเรียนรู้ด้านเกษตรกรเบื้อ...   \n",
       "...                                                  ...   \n",
       "29100  ดําเนินงาน/กิจกรรมที่สําคัญของโครงการ (โปรดอธิ...   \n",
       "29101                                                unk   \n",
       "29102                                                unk   \n",
       "29103   1. กิจกรรมการปลูกฟ้าทะลายโจรเชิงการค้า ภายใต้...   \n",
       "29104                                                unk   \n",
       "\n",
       "                                                  target    price_m  \n",
       "0                                                    unk  1700.0000  \n",
       "1      1. กลุ่มเปราะบางทางสังคมได้รับการเสริมพลังและพ...  1819.3253  \n",
       "2                                                    unk   260.0000  \n",
       "3      1. เป็นแหล่งท่องเที่ยวเชิงเกษตร เป็น Land Mark...     4.5000  \n",
       "4      9.1 ประชาชนที่เข้าร่วมโครงการ มีความรู้ ความสา...     0.5000  \n",
       "...                                                  ...        ...  \n",
       "29100                                                unk     0.3000  \n",
       "29101                                                unk    -1.0000  \n",
       "29102                                                unk    -1.0000  \n",
       "29103  1. เป็นแหล่งเรียนรู้ด้านการผลิตและการแปรรูปสมุ...     0.9600  \n",
       "29104                                                unk     0.2500  \n",
       "\n",
       "[29105 rows x 6 columns]"
      ]
     },
     "execution_count": 325,
     "metadata": {},
     "output_type": "execute_result"
    }
   ],
   "source": [
    "#consolidate\n",
    "df = pd.DataFrame({'project_name':project_names,'price':prices,'rationale':rationales,'scope':scopes,'target':targets})\n",
    "df['scope'] = df.scope.map(lambda x: x.replace('ดำเนินงาน/กิจกรรมที่สำคัญของโครงการ (โปรดอธิบายให้เห็นถึงกิจกรรม-วิธีการดำเนินงาน)','')\\\n",
    "                           .replace('ดำเนินงาน/กิจกรรมที่สำคัญของโครงการ',''))\n",
    "df['price_m'] = df.price.map(thainum_to_num).map(convert_price).map(lambda x: -1 if x==1 else x/1e6)\n",
    "df"
   ]
  },
  {
   "cell_type": "code",
   "execution_count": 326,
   "metadata": {},
   "outputs": [
    {
     "data": {
      "text/plain": [
       "project_name    0.574403\n",
       "price           0.000000\n",
       "rationale       0.653565\n",
       "scope           0.684968\n",
       "target          0.711940\n",
       "price_m         0.000000\n",
       "dtype: float64"
      ]
     },
     "execution_count": 326,
     "metadata": {},
     "output_type": "execute_result"
    }
   ],
   "source": [
    "#huge amount of unknown due to unsuccessful text extraction and processing \n",
    "df.apply(lambda x: (x=='unk').mean(),0)"
   ]
  },
  {
   "cell_type": "code",
   "execution_count": 327,
   "metadata": {},
   "outputs": [
    {
     "data": {
      "text/plain": [
       "0.6137777014258718"
      ]
     },
     "execution_count": 327,
     "metadata": {},
     "output_type": "execute_result"
    }
   ],
   "source": [
    "(df.price_m<0).mean()"
   ]
  },
  {
   "cell_type": "code",
   "execution_count": 328,
   "metadata": {},
   "outputs": [],
   "source": [
    "# df.to_csv('data/textmaimee.csv',index=False,sep='|',quoting=csv.QUOTE_ALL)"
   ]
  },
  {
   "cell_type": "code",
   "execution_count": 308,
   "metadata": {},
   "outputs": [
    {
     "data": {
      "text/plain": [
       "(29105, 6)"
      ]
     },
     "execution_count": 308,
     "metadata": {},
     "output_type": "execute_result"
    }
   ],
   "source": [
    "df.shape"
   ]
  },
  {
   "cell_type": "markdown",
   "metadata": {},
   "source": [
    "## Try to Join with Tabular Data"
   ]
  },
  {
   "cell_type": "code",
   "execution_count": 309,
   "metadata": {},
   "outputs": [
    {
     "data": {
      "text/plain": [
       "((33716, 9), (29105, 6))"
      ]
     },
     "execution_count": 309,
     "metadata": {},
     "output_type": "execute_result"
    }
   ],
   "source": [
    "thaime = pd.read_csv('data/thaimaimee.csv')\n",
    "textme = pd.read_csv('data/textmaimee.csv',sep='|')\n",
    "thaime.shape,textme.shape"
   ]
  },
  {
   "cell_type": "code",
   "execution_count": 310,
   "metadata": {},
   "outputs": [
    {
     "data": {
      "text/plain": [
       "(93883, 14)"
      ]
     },
     "execution_count": 310,
     "metadata": {},
     "output_type": "execute_result"
    }
   ],
   "source": [
    "joined = thaime.merge(textme,on='project_name',how='left')\n",
    "joined.shape"
   ]
  },
  {
   "cell_type": "markdown",
   "metadata": {},
   "source": [
    "## Explore on `textme` Only"
   ]
  },
  {
   "cell_type": "code",
   "execution_count": null,
   "metadata": {},
   "outputs": [],
   "source": [
    "df."
   ]
  }
 ],
 "metadata": {
  "kernelspec": {
   "display_name": "Python 3",
   "language": "python",
   "name": "python3"
  },
  "language_info": {
   "codemirror_mode": {
    "name": "ipython",
    "version": 3
   },
   "file_extension": ".py",
   "mimetype": "text/x-python",
   "name": "python",
   "nbconvert_exporter": "python",
   "pygments_lexer": "ipython3",
   "version": "3.6.9"
  }
 },
 "nbformat": 4,
 "nbformat_minor": 2
}
